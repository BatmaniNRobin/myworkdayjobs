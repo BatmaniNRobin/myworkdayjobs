{
 "cells": [
  {
   "cell_type": "code",
   "execution_count": 1,
   "metadata": {},
   "outputs": [],
   "source": [
    "from selenium import webdriver\n",
    "from selenium.webdriver.common.by import By\n",
    "from selenium.webdriver.common.keys import Keys\n",
    "from selenium.webdriver.support.ui import Select\n",
    "from selenium.common.exceptions import NoSuchElementException\n",
    "from selenium.common.exceptions import NoAlertPresentException\n",
    "import unittest\n",
    "import time\n",
    "import re # maybe\n",
    "import sys\n",
    "import os\n",
    "\n",
    "# TODO should i handle first time filling it out?\n",
    "# TODO handle sys.argv for txt file and resume for drop box"
   ]
  },
  {
   "cell_type": "code",
   "execution_count": 2,
   "metadata": {},
   "outputs": [],
   "source": [
    "# pass the url as command line arg 1\n",
    "# TODO sys.argv[1]\n",
    "url = 'https://cloudera.wd5.myworkdayjobs.com/External_Career/job/USA--California--Palo-Alto/Software-Engineering-Intern--Summer-2020_192016'\n",
    "\n",
    "# open firefox\n",
    "driver = webdriver.Firefox()\n",
    "\n",
    "# get the html code from driver\n",
    "# load the right page in firefox\n",
    "driver.get(url)\n",
    "\n",
    "# wait for everything to load first\n",
    "driver.implicitly_wait(1) # seconds\n",
    "\n",
    "# # click apply (radio button) to go to next page\n",
    "apply_button = driver.find_element_by_id(\"wd-DropDownCommandButton-commandButton.siteLabels['POSTING.Apply_Button']\")\n",
    "apply_button.click()\n",
    "\n",
    "driver.implicitly_wait(4) # seconds"
   ]
  },
  {
   "cell_type": "code",
   "execution_count": 3,
   "metadata": {},
   "outputs": [],
   "source": [
    "# click select files button\n",
    "# read path from text file\n",
    "select_files =  driver.find_element_by_xpath('/html/body/div[4]/div[1]/div[1]/section/div[1]/div/div/div[1]/div/div/div[2]/div/div/div[2]/div[2]/div/div[3]/div[2]/div[3]/div/div[2]/div/div/div/div/div[2]/div/div/div/form/div/input[4]')\n",
    "select_files.send_keys('~/Desktop/Resume_Fall_2019.pdf')"
   ]
  },
  {
   "cell_type": "code",
   "execution_count": 4,
   "metadata": {},
   "outputs": [],
   "source": [
    "# to prevent errors with drag and drop resume sleep\n",
    "time.sleep(1)\n",
    "\n",
    "# click next (radio button) to go to next page\n",
    "next_button = driver.find_element_by_class_name('WHWI')\n",
    "next_button.click()"
   ]
  },
  {
   "cell_type": "code",
   "execution_count": 25,
   "metadata": {},
   "outputs": [],
   "source": [
    "# fill out my information\n",
    "# fill out my country\n",
    "country = driver.find_element_by_id('dropDownSelectList.countries-input--uid35-input')\n",
    "# country.click()\n",
    "\n",
    "time.sleep(1)\n",
    "\n",
    "# TODO handle this by readline and taking first char and iterating to country, default to US\n",
    "country.send_keys('u')\n",
    "for skr in range(7):\n",
    "    country.send_keys(Keys.DOWN)\n",
    "    time.sleep(1)\n",
    "\n",
    "country.send_keys(Keys.ENTER)\n",
    "\n",
    "# country.send_keys(Keys.DOWN)"
   ]
  },
  {
   "cell_type": "code",
   "execution_count": null,
   "metadata": {},
   "outputs": [],
   "source": []
  },
  {
   "cell_type": "code",
   "execution_count": 14,
   "metadata": {},
   "outputs": [],
   "source": [
    "# sound = driver.find_element_by_id('dropDownSelectList.sources-input--uid52-input')\n",
    "sound = driver.find_element_by_class_name('WI3I')\n",
    "sound.click()\n",
    "\n"
   ]
  },
  {
   "cell_type": "code",
   "execution_count": 15,
   "metadata": {},
   "outputs": [],
   "source": [
    "# to prevent errors with drag and drop resume sleep\n",
    "time.sleep(1)\n",
    "\n",
    "# click next (radio button) to go to next page\n",
    "next_button = driver.find_element_by_class_name('WHWI')\n",
    "next_button.click()"
   ]
  }
 ],
 "metadata": {
  "kernelspec": {
   "display_name": "Python 3",
   "language": "python",
   "name": "python3"
  },
  "language_info": {
   "codemirror_mode": {
    "name": "ipython",
    "version": 3
   },
   "file_extension": ".py",
   "mimetype": "text/x-python",
   "name": "python",
   "nbconvert_exporter": "python",
   "pygments_lexer": "ipython3",
   "version": "3.7.4"
  }
 },
 "nbformat": 4,
 "nbformat_minor": 2
}
